{
 "cells": [
  {
   "cell_type": "markdown",
   "metadata": {},
   "source": [
    "# Code Breaking With MCMC"
   ]
  },
  {
   "cell_type": "code",
   "execution_count": 3,
   "metadata": {},
   "outputs": [],
   "source": [
    "import numpy as np\n",
    "from scipy import special \n",
    "import pickle\n",
    "import itertools as it\n",
    "from collections import Counter"
   ]
  },
  {
   "cell_type": "code",
   "execution_count": 117,
   "metadata": {},
   "outputs": [],
   "source": [
    "def clean_string(string): \n",
    "    \"\"\"\n",
    "    Cleans an input string by replacing all newlines with spaces, \n",
    "    and then removing all letters not in *allowable_letters*\n",
    "    \"\"\"\n",
    "    string = string.replace(\"\\n\",\" \")\n",
    "    return \"\".join([i for i in string.lower().strip() if i in allowable_letters])\n",
    "\n",
    "\n",
    "def load_bigrams(text):\n",
    "    \"\"\"\n",
    "    Takes a string which has already been cleaned, and returns a dictionary\n",
    "    of conditional bigram probabilities\n",
    "    cond_bigram[(a,b)] = P(X_{n+1} = b | X_{n} = a)\n",
    "    Uses Laplace smoothing with size $1$, to remove zero transition probabilities\n",
    "    \"\"\"\n",
    "    bigram_counter = Counter(list(it.product(allowable_letters, repeat=2))) \n",
    "    gram_counter = Counter(allowable_letters*len(allowable_letters))\n",
    "    for l1, l2 in zip(text,text[1:]): \n",
    "        bigram_counter[(l1, l2)] += 1 \n",
    "        gram_counter[l1] += 1\n",
    "    cond_bigram = {k:float(v)/float(gram_counter[k[0]]) for k,v in bigram_counter.items()}\n",
    "    return cond_bigram\n",
    "    \n",
    "def bigram_from_file(filename):\n",
    "    \"\"\"\n",
    "    Given a filename, this reads it, cleans it, and returns the conditional bigram \n",
    "    \"\"\"\n",
    "    file_text = open(filename).read()\n",
    "    file_text = clean_string(file_text)\n",
    "    return load_bigrams(file_text)\n",
    "\n",
    "def reverse_cipher(cipher):\n",
    "    \n",
    "    return {v:k for k, v in cipher.items()}\n",
    "\n",
    "\n",
    "def print_differences(cipher1, cipher2):\n",
    "    for k in cipher1:\n",
    "        if cipher1[k] != cipher2[k]:\n",
    "            print(\"%s: %s %s\"%(k,cipher1[k], cipher2[k]))\n",
    "\n",
    "def num_errors(cipher, encoded_text, original_text):\n",
    "    decoded = np.array(list(decode_text(encoded_text, cipher)))\n",
    "    original = np.array(list(original_text))\n",
    "    num_errors = np.count_nonzero(decoded != original)\n",
    "    return num_errors\n",
    "        \n",
    "    \n",
    "def get_secret_text(student_id):\n",
    "    with open('Lab06_data/secret_strings.p', 'rb') as f:\n",
    "        texts = pickle.load(f)\n",
    "    return texts[student_id % len(texts)]\n"
   ]
  },
  {
   "cell_type": "code",
   "execution_count": 21,
   "metadata": {},
   "outputs": [],
   "source": [
    "allowable_letters = list(\"abcdefghijklmnopqrstuvwxyz \")\n",
    "#s = \"Hi,howW are you23123\"\n",
    "#clean_string(s)"
   ]
  },
  {
   "cell_type": "code",
   "execution_count": 30,
   "metadata": {},
   "outputs": [],
   "source": [
    "# generate the transition prob from the given text \n",
    "wp_bigrams = bigram_from_file(\"warandpeace.txt\")"
   ]
  },
  {
   "cell_type": "code",
   "execution_count": 32,
   "metadata": {},
   "outputs": [],
   "source": [
    "#wp_bigrams "
   ]
  },
  {
   "cell_type": "code",
   "execution_count": 33,
   "metadata": {},
   "outputs": [],
   "source": [
    "def wp_transition(a, b):\n",
    "    \"\"\"\n",
    "    Return the transition prob from a->b if (a,b) is \n",
    "    in the diagram, else 0 \n",
    "    \"\"\"\n",
    "    if (a, b) in wp_bigrams:\n",
    "        return wp_bigrams[(a, b)]\n",
    "    return 0 \n"
   ]
  },
  {
   "cell_type": "code",
   "execution_count": 34,
   "metadata": {},
   "outputs": [],
   "source": [
    "decoder_letters = np.array(list(\"abcdefghijklmnopqrstuvwxyz\"))"
   ]
  },
  {
   "cell_type": "code",
   "execution_count": 74,
   "metadata": {},
   "outputs": [],
   "source": [
    "identity_decoder = {letter:letter for letter in decoder_letters}"
   ]
  },
  {
   "cell_type": "code",
   "execution_count": 76,
   "metadata": {},
   "outputs": [],
   "source": [
    "#identity_decoder"
   ]
  },
  {
   "cell_type": "code",
   "execution_count": 44,
   "metadata": {},
   "outputs": [],
   "source": [
    "def random_decoder():\n",
    "    \"\"\" Random decoder \"\"\"\n",
    "    new_letters = decoder_letters.copy()\n",
    "    np.random.shuffle(new_letters)\n",
    "    return {orig:new for orig ,new in zip(decoder_letters, new_letters)}\n",
    "\n",
    "\n",
    "def decode_text(string, decoder):\n",
    "    \"\"\"\n",
    "    Define a function decode_text that takes as its arguments a string to be decoded and the decoder.\n",
    "    It should return the decoded string.Notethat we are only decoding alphabetical characters.\n",
    "    If a character is not in the de- coder (e.g. a space), leave the character alone.\n",
    "    \"\"\"\n",
    "    new_string = \"\"\n",
    "    for char in string:\n",
    "        if char in decoder:\n",
    "            new_letter = decoder.get(char)\n",
    "        else:\n",
    "            new_letter =char\n",
    "        # Now we append the letter to the back of the new string\n",
    "        new_string = new_string + new_letter\n",
    "    return new_string\n",
    "    \n"
   ]
  },
  {
   "cell_type": "code",
   "execution_count": 50,
   "metadata": {},
   "outputs": [
    {
     "data": {
      "text/plain": [
       "'Hyo sul cyk tyghx alul'"
      ]
     },
     "execution_count": 50,
     "metadata": {},
     "output_type": "execute_result"
    }
   ],
   "source": [
    "decode_text('How are you doing here',random_decoder())"
   ]
  },
  {
   "cell_type": "code",
   "execution_count": 51,
   "metadata": {},
   "outputs": [
    {
     "data": {
      "text/plain": [
       "403291461126605635584000000L"
      ]
     },
     "execution_count": 51,
     "metadata": {},
     "output_type": "execute_result"
    }
   ],
   "source": [
    "np.math.factorial(26)"
   ]
  },
  {
   "cell_type": "code",
   "execution_count": 116,
   "metadata": {},
   "outputs": [],
   "source": [
    "def generate_proposed_decoder(decoder):\n",
    "    \"\"\"\n",
    "    Define the function generate_proposed_decoder which takes an existing decoder \n",
    "    and returns a new decoder as follows: it randomly picks two different letters of the alphabet and swaps the decoding for those letters.\n",
    "    Make sure to use decoder_letters rather than allowable_letters because we want to keep the spaces as is.\n",
    "    For example, if we have the decoder {'a':'b','b':'c','c':a'} and decide to swap a and b, our new decoder should be {'a':'c','b':'b','c':a'}\n",
    "    \"\"\"\n",
    "    new_decoder = decoder.copy()\n",
    "    letters = np.random.choice( list(new_decoder.keys()), 2, replace=False)\n",
    "    #print(letters)\n",
    "    letter1,letter2 =letters[0],letters[1]\n",
    "    new_value_of_letter1,new_value_of_letter2  =new_decoder[letter2],new_decoder[letter1]\n",
    "    new_decoder[letter1],new_decoder[letter2] = new_value_of_letter1,new_value_of_letter2\n",
    "    return new_decoder    "
   ]
  },
  {
   "cell_type": "code",
   "execution_count": 59,
   "metadata": {},
   "outputs": [
    {
     "name": "stdout",
     "output_type": "stream",
     "text": [
      "['a' 'b']\n"
     ]
    },
    {
     "data": {
      "text/plain": [
       "{'a': 'c', 'b': 'b', 'c': 'a'}"
      ]
     },
     "execution_count": 59,
     "metadata": {},
     "output_type": "execute_result"
    }
   ],
   "source": [
    "l={'a':'b','b':'c','c':'a'}\n",
    "generate_proposed_decoder(l)"
   ]
  },
  {
   "cell_type": "code",
   "execution_count": 115,
   "metadata": {},
   "outputs": [],
   "source": [
    "def log_prob_path(string, wp_bigrams):\n",
    "    \"\"\"\n",
    "    Returns the log of the probability of the path, conditional on the starting character.\n",
    "    string: the string needs to calculate the log trans score\n",
    "    wp_bigrams: dictionary of the trans info, key:(s,e) val:trans score of s->e\n",
    "    Retrun: log prob score of path \n",
    "    \"\"\"\n",
    "    n = len(string)\n",
    "    if n<2:\n",
    "        return 0 \n",
    "    score = 1 \n",
    "    for i in range(1,n):\n",
    "        pre,cur = string[i-1],string[i]\n",
    "        if (pre,cur) in wp_bigrams:\n",
    "            #print(\"Pre:\"+pre+\" Cur:\"+cur)\n",
    "            score += np.log(wp_bigrams[(pre,cur)])\n",
    "        else:\n",
    "            #print(pre,cur)\n",
    "            print(\"Not in bigrams\")\n",
    "            \n",
    "    return score\n",
    "            "
   ]
  },
  {
   "cell_type": "code",
   "execution_count": 72,
   "metadata": {},
   "outputs": [
    {
     "data": {
      "text/plain": [
       "-39.25140085930973"
      ]
     },
     "execution_count": 72,
     "metadata": {},
     "output_type": "execute_result"
    }
   ],
   "source": [
    "log_prob_path(\"how are you doing\", wp_bigrams)"
   ]
  },
  {
   "cell_type": "code",
   "execution_count": 83,
   "metadata": {},
   "outputs": [],
   "source": [
    "def log_score(string, decoder, bigrams):\n",
    "    \"\"\"\n",
    "    Define a function log_score that takes the following arguments,\n",
    "    The function should decode the encrypted string using the decoder,\n",
    "    and return the log score of the decoder.\n",
    "    string: an encrypted string\n",
    "    decoder: a decoder\n",
    "    bigram: a bigram transition matrix\n",
    "    return: log score of the dicoder\n",
    "    \"\"\"\n",
    "    t = decode_text(string,decoder)\n",
    "    return log_prob_path(t, bigrams)"
   ]
  },
  {
   "cell_type": "code",
   "execution_count": 86,
   "metadata": {},
   "outputs": [
    {
     "data": {
      "text/plain": [
       "-34.81605218295789"
      ]
     },
     "execution_count": 86,
     "metadata": {},
     "output_type": "execute_result"
    }
   ],
   "source": [
    "log_score(\"how are you\",random_decoder(),wp_bigrams)"
   ]
  },
  {
   "cell_type": "code",
   "execution_count": 87,
   "metadata": {},
   "outputs": [],
   "source": [
    "def p_coin(p):\n",
    "    \"\"\"\n",
    "    Flips a coin that comes up heads with probability p and returns 1 if Heads, 0 if Tails\n",
    "    \"\"\"\n",
    "    return np.random.random() < p\n"
   ]
  },
  {
   "cell_type": "code",
   "execution_count": 93,
   "metadata": {},
   "outputs": [
    {
     "data": {
      "text/plain": [
       "True"
      ]
     },
     "execution_count": 93,
     "metadata": {},
     "output_type": "execute_result"
    }
   ],
   "source": [
    "p_coin(0.5)"
   ]
  },
  {
   "cell_type": "code",
   "execution_count": 143,
   "metadata": {},
   "outputs": [],
   "source": [
    "def metropolis(string_to_decode, bigrams,reps):\n",
    "    # Starting decoder\n",
    "    decoder = random_decoder()\n",
    "    best_decoder = decoder\n",
    "    best_score = log_score(string_to_decode,best_decoder,bigrams)\n",
    "    last_score = best_score\n",
    "    #print(best_score)\n",
    "    for rep in np.arange(reps):\n",
    "        # This will print out our progress\n",
    "        if rep*10%reps == 0:\n",
    "            decoded_text = decode_text(string_to_decode,best_decoder)[:40]\n",
    "            print('Score: %.00f \\t Guess: %s'%(best_score, decoded_text))\n",
    "            \n",
    "        proposed_decoder = generate_proposed_decoder(best_decoder)\n",
    "        log_s_orig = log_score(string_to_decode,best_decoder,bigrams)\n",
    "        log_s_new  = log_score(string_to_decode,proposed_decoder,bigrams)\n",
    "        # If better than before or p-coin flip works\n",
    "        if log_s_new > log_s_orig or p_coin(log_s_orig/log_s_new):\n",
    "            decoder=proposed_decoder\n",
    "            last_score=log_s_new\n",
    "            # update the best_score if we had got a higher score \n",
    "            if log_s_new > best_score:\n",
    "                #print(\"Better score\"+str(log_s_new))\n",
    "                best_decoder=proposed_decoder\n",
    "                best_score=log_s_new\n",
    "    return best_decoder\n",
    "    "
   ]
  },
  {
   "cell_type": "code",
   "execution_count": 152,
   "metadata": {},
   "outputs": [],
   "source": [
    "ogtext = \"\"\"I have, myself, full confidence that if all do their duty, if nothing is neglected,\n",
    "         and if the best arrangements are made, as they are being made, we shall prove ourselve\n",
    "         once again able to defend our Island home, to ride out the storm of war, and to outliv\n",
    "         the menace of tyranny, if necessary for years, if necessary alone. At any rate, that i\n",
    "         what we are going to try to do. That is the resolve of His Majestys Government-every m\n",
    "         of them. That is the will of Parliament and the nation.\"\"\"\n",
    "\n",
    "ogtext2 = \"\"\"\n",
    "Even though large tracts of Europe and many old and famous States have fallen or may fall into the grip of the Gestapo and all the odious apparatus of Nazi rule, we shall not flag or fail. We shall go on to the end. We shall fight in France, we shall fight on the seas and oceans, we shall fight with growing confidence and growing strength in the air, we shall defend our island, whatever the cost may be. We shall fight on the beaches, we shall fight on the landing grounds, we shall fight in the fields and in the streets, we shall fight in the hills; we shall never surrender, and if, which I do not for a moment believe, this island or a large part of it were subjugated and starving, then our Empire beyond the seas, armed and guarded by the British Fleet, would carry on the struggle, until, in God's good time, the New World, with all its power and might, steps forth to the rescue and the liberation of the old.\n",
    "\"\"\""
   ]
  },
  {
   "cell_type": "code",
   "execution_count": 153,
   "metadata": {},
   "outputs": [
    {
     "data": {
      "text/plain": [
       "'even though large tracts of europe and many old and famous states have fallen or may fall into the grip of the gestapo and all the odious apparatus of nazi rule we shall not flag or fail we shall go on to the end we shall fight in france we shall fight on the seas and oceans we shall fight with growing confidence and growing strength in the air we shall defend our island whatever the cost may be we shall fight on the beaches we shall fight on the landing grounds we shall fight in the fields and in the streets we shall fight in the hills we shall never surrender and if which i do not for a moment believe this island or a large part of it were subjugated and starving then our empire beyond the seas armed and guarded by the british fleet would carry on the struggle until in gods good time the new world with all its power and might steps forth to the rescue and the liberation of the old'"
      ]
     },
     "execution_count": 153,
     "metadata": {},
     "output_type": "execute_result"
    }
   ],
   "source": [
    "original_string = clean_string(ogtext2)\n",
    "original_string"
   ]
  },
  {
   "cell_type": "code",
   "execution_count": 154,
   "metadata": {},
   "outputs": [],
   "source": [
    "encoding_cipher = random_decoder()\n",
    "string_to_decode = decode_text(original_string,encoding_cipher)"
   ]
  },
  {
   "cell_type": "code",
   "execution_count": 131,
   "metadata": {},
   "outputs": [],
   "source": [
    "def encode(string,encoder):\n",
    "    original_string = clean_string(string)\n",
    "    return decode_text(original_string,encoding_cipher)"
   ]
  },
  {
   "cell_type": "code",
   "execution_count": 164,
   "metadata": {},
   "outputs": [
    {
     "data": {
      "text/plain": [
       "0.01101224337312571"
      ]
     },
     "execution_count": 164,
     "metadata": {},
     "output_type": "execute_result"
    }
   ],
   "source": [
    "wp_bigrams[('d','d')]"
   ]
  },
  {
   "cell_type": "code",
   "execution_count": 155,
   "metadata": {},
   "outputs": [
    {
     "name": "stdout",
     "output_type": "stream",
     "text": [
      "Score: -4714 \t Guess: ldls cjztgj nxhgl chxwcb zo lthzql xsy p\n",
      "Score: -2435 \t Guess: even orsudr limde omigot sw eumsfe iny p\n",
      "Score: -2435 \t Guess: even orsudr limde omigot sw eumsfe iny p\n",
      "Score: -2435 \t Guess: even orsudr limde omigot sw eumsfe iny p\n",
      "Score: -2435 \t Guess: even orsudr limde omigot sw eumsfe iny p\n",
      "Score: -2435 \t Guess: even orsudr limde omigot sw eumsfe iny p\n",
      "Score: -2435 \t Guess: even orsudr limde omigot sw eumsfe iny p\n",
      "Score: -2435 \t Guess: even orsudr limde omigot sw eumsfe iny p\n",
      "Score: -2435 \t Guess: even orsudr limde omigot sw eumsfe iny p\n",
      "Score: -2435 \t Guess: even orsudr limde omigot sw eumsfe iny p\n"
     ]
    }
   ],
   "source": [
    "new_decoder = metropolis(string_to_decode, wp_bigrams, 100000)"
   ]
  },
  {
   "cell_type": "code",
   "execution_count": 137,
   "metadata": {},
   "outputs": [
    {
     "data": {
      "text/plain": [
       "'zrc zcaz uji ntc ejfme zj sftgz cmotuyz nmk zrcm kcojkc fg znhcm stjq pfmgzjm oritorfllg gyccor zj zrc rjigc js ojqqjmg jm  ximc  mnzitnllu fz ojmznfmg iyyct ongc lczzctg nmk yimozinzfjm zrnz pc rnwc mjz fmolikck fm jit nlyrnvcz fm zrc ocll vcljp zrc simozfjm olcnmgztfme gztfyg jiz nll zrc yimozinzfjm nmk tcylnocg iyyct ongc lczzctg vu zrc ojttcgyjmkfme ljpct ongc lczzctg'"
      ]
     },
     "execution_count": 137,
     "metadata": {},
     "output_type": "execute_result"
    }
   ],
   "source": [
    "s = \"The text you are going to first encrypt and then decode is taken from Winston Churchill’s speech to the House of Commons on 4 June 1940. Naturally, it contains upper case letters and punctuation that we have not included in our alphabet. In the cell below, the function clean_string strips out all the punctuation and replaces upper case letters by the corresponding lower case letters.\"\n",
    "s_e = encode(s,random_decoder())\n",
    "s_e"
   ]
  },
  {
   "cell_type": "code",
   "execution_count": 141,
   "metadata": {},
   "outputs": [
    {
     "name": "stdout",
     "output_type": "stream",
     "text": [
      "Score: -1673 \t Guess: ant atxa jzp uit wzqgw az vqima tgsijya \n",
      "Score: -1091 \t Guess: ore oeco yaw ine mausm oa kunto espnyfo \n",
      "Score: -1091 \t Guess: ore oeco yaw ine mausm oa kunto espnyfo \n",
      "Score: -1091 \t Guess: ore oeco yaw ine mausm oa kunto espnyfo \n",
      "Score: -1091 \t Guess: ore oeco yaw ine mausm oa kunto espnyfo \n",
      "Score: -1091 \t Guess: ore oeco yaw ine mausm oa kunto espnyfo \n",
      "Score: -1091 \t Guess: ore oeco yaw ine mausm oa kunto espnyfo \n",
      "Score: -1091 \t Guess: ore oeco yaw ine mausm oa kunto espnyfo \n",
      "Score: -1091 \t Guess: ore oeco yaw ine mausm oa kunto espnyfo \n",
      "Score: -1091 \t Guess: ore oeco yaw ine mausm oa kunto espnyfo \n"
     ]
    },
    {
     "data": {
      "text/plain": [
       "{'a': 'c',\n",
       " 'b': 'x',\n",
       " 'c': 'e',\n",
       " 'd': 'q',\n",
       " 'e': 'm',\n",
       " 'f': 'u',\n",
       " 'g': 't',\n",
       " 'h': 'v',\n",
       " 'i': 'w',\n",
       " 'j': 'a',\n",
       " 'k': 'h',\n",
       " 'l': 'l',\n",
       " 'm': 's',\n",
       " 'n': 'i',\n",
       " 'o': 'p',\n",
       " 'p': 'd',\n",
       " 'q': 'g',\n",
       " 'r': 'r',\n",
       " 's': 'k',\n",
       " 't': 'n',\n",
       " 'u': 'y',\n",
       " 'v': 'b',\n",
       " 'w': 'z',\n",
       " 'x': 'j',\n",
       " 'y': 'f',\n",
       " 'z': 'o'}"
      ]
     },
     "execution_count": 141,
     "metadata": {},
     "output_type": "execute_result"
    }
   ],
   "source": [
    "metropolis(s_e, wp_bigrams, 100000)"
   ]
  },
  {
   "cell_type": "code",
   "execution_count": null,
   "metadata": {},
   "outputs": [],
   "source": []
  }
 ],
 "metadata": {
  "kernelspec": {
   "display_name": "python3",
   "language": "python",
   "name": "python3"
  },
  "language_info": {
   "codemirror_mode": {
    "name": "ipython",
    "version": 2
   },
   "file_extension": ".py",
   "mimetype": "text/x-python",
   "name": "python",
   "nbconvert_exporter": "python",
   "pygments_lexer": "ipython2",
   "version": "2.7.15"
  }
 },
 "nbformat": 4,
 "nbformat_minor": 2
}
